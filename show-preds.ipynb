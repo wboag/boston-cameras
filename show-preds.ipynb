{
 "cells": [
  {
   "cell_type": "code",
   "execution_count": null,
   "id": "certain-gauge",
   "metadata": {},
   "outputs": [],
   "source": [
    "import pandas as pd\n",
    "import json\n",
    "import cv2\n",
    "import re\n",
    "import pylab as pl\n",
    "import tqdm\n",
    "import pickle\n",
    "from collections import defaultdict"
   ]
  },
  {
   "cell_type": "code",
   "execution_count": null,
   "id": "missing-detail",
   "metadata": {},
   "outputs": [],
   "source": [
    "preds = pd.read_csv('data/predictions/nonresidential-1.tsv', sep='\\t')\n",
    "preds = preds[preds.num_boxes>0]\n",
    "preds['max_prob'] = preds.probs.apply(lambda r: max(json.loads(r)))\n",
    "preds"
   ]
  },
  {
   "cell_type": "code",
   "execution_count": null,
   "id": "intelligent-nicholas",
   "metadata": {},
   "outputs": [],
   "source": [
    "# Get GPS -> image_ids list\n",
    "#with open('gsv/metadata.pkl', 'rb') as f:\n",
    "#    metadata = pickle.load(f)\n",
    "#    \n",
    "#gps_to_ids = defaultdict(list)\n",
    "#for image_id,obj in metadata.items():\n",
    "#    gps = tuple(map(float,obj['location'].split(',')))\n",
    "#    gps_to_ids[gps].append(image_id)"
   ]
  },
  {
   "cell_type": "code",
   "execution_count": null,
   "id": "pressing-warning",
   "metadata": {
    "scrolled": true
   },
   "outputs": [],
   "source": [
    "for i,row in enumerate(preds.sort_values('probs').iloc[::-1].itertuples()):\n",
    "    if i<180: continue\n",
    "\n",
    "    filename = row.File\n",
    "    image_id = int(re.search('image0*(\\d+).jpg', filename).groups()[0])\n",
    "    \n",
    "    print(i)\n",
    "    print(filename)\n",
    "    \n",
    "    # Display location\n",
    "    image_num = int(re.search('image0*(\\d+)\\.jpg', filename).groups()[0])\n",
    "    #gps = metadata[image_num]['location']\n",
    "    gps = (row.Latitude, row.Longitude)\n",
    "    print(str(gps)[1:-1])\n",
    "\n",
    "    #sample = id_to_obj[image_id]\n",
    "    #path = sample['file_name'] \n",
    "    path = f'gsv/{filename}'\n",
    "    img = cv2.imread(path)\n",
    "    \n",
    "    ################\n",
    "    # Show Image\n",
    "    pl.figure(figsize=(34,18))\n",
    "    pl.imshow(img[:, :, ::-1])\n",
    "        \n",
    "    ################\n",
    "    # Predicted Boxes\n",
    "    probs   = json.loads(row.probs)\n",
    "    boxes   = json.loads(row.boxes)\n",
    "    classes = json.loads(row.classes)\n",
    "\n",
    "    #colors = ['r', 'deepskyblue', 'b', 'g', 'c', 'm', 'y', 'tab:orange', 'tab:pink', 'goldenrod']\n",
    "    colors = ['red', 'yellow']\n",
    "    counter = 0\n",
    "    for j,box in sorted(enumerate(boxes), key=lambda t:probs[t[0]], reverse=True):\n",
    "        # Only show the 7 highest-probability boxes\n",
    "        counter += 1\n",
    "        if counter > 7: break\n",
    "            \n",
    "        #color = 'r' # colors[j]\n",
    "        pred_label = classes[j]\n",
    "        color = colors[pred_label]\n",
    "        prob = probs[j]\n",
    "\n",
    "        # Plot rectangle\n",
    "        x1,y1,x2,y2 = box\n",
    "        rectangle = pl.Rectangle((x1,y1), x2-x1, y2-y1, ec=color, facecolor='None', lw=1+10*prob)\n",
    "        pl.gca().add_patch(rectangle)\n",
    "\n",
    "        # Plot probability\n",
    "        pl.text(x1, y1*.99, f'{int(prob*100)}%', c=color, fontsize=6+50*prob)\n",
    "            \n",
    "    pl.show()\n",
    "    \n",
    "    probs = json.loads(row.probs)\n",
    "    score = max(probs)\n",
    "    if score <0.6: break"
   ]
  },
  {
   "cell_type": "code",
   "execution_count": null,
   "id": "retained-valuable",
   "metadata": {},
   "outputs": [],
   "source": [
    "preds[abs(preds.Latitude-42.335479)<.00001]"
   ]
  },
  {
   "cell_type": "code",
   "execution_count": null,
   "id": "organized-trinity",
   "metadata": {},
   "outputs": [],
   "source": [
    "for i,row in enumerate(preds.sort_values('probs').iloc[::-1].itertuples()):\n",
    "    if i<180: continue\n",
    "\n",
    "    filename = row.File\n",
    "    image_id = int(re.search('image0*(\\d+).jpg', filename).groups()[0])\n",
    "    \n",
    "    print(i)\n",
    "    print(filename)\n",
    "    \n",
    "    # Display location\n",
    "    image_num = int(re.search('image0*(\\d+)\\.jpg', filename).groups()[0])\n",
    "    #gps = metadata[image_num]['location']\n",
    "    gps = (row.Latitude, row.Longitude)\n",
    "    print(str(gps)[1:-1])\n",
    "\n",
    "    #sample = id_to_obj[image_id]\n",
    "    #path = sample['file_name'] \n",
    "    path = f'gsv/{filename}'\n",
    "    img = cv2.imread(path)\n",
    "    \n",
    "    ################\n",
    "    # Show Image\n",
    "    pl.figure(figsize=(34,18))\n",
    "    pl.imshow(img[:, :, ::-1])\n",
    "        \n",
    "    ################\n",
    "    # Predicted Boxes\n",
    "    probs   = json.loads(row.probs)\n",
    "    boxes   = json.loads(row.boxes)\n",
    "    classes = json.loads(row.classes)\n",
    "\n",
    "    #colors = ['r', 'deepskyblue', 'b', 'g', 'c', 'm', 'y', 'tab:orange', 'tab:pink', 'goldenrod']\n",
    "    colors = ['red', 'yellow']\n",
    "    counter = 0\n",
    "    for j,box in sorted(enumerate(boxes), key=lambda t:probs[t[0]], reverse=True):\n",
    "        # Only show the 7 highest-probability boxes\n",
    "        counter += 1\n",
    "        if counter > 7: break\n",
    "            \n",
    "        #color = 'r' # colors[j]\n",
    "        pred_label = classes[j]\n",
    "        color = colors[pred_label]\n",
    "        prob = probs[j]\n",
    "\n",
    "        # Plot rectangle\n",
    "        x1,y1,x2,y2 = box\n",
    "        rectangle = pl.Rectangle((x1,y1), x2-x1, y2-y1, ec=color, facecolor='None', lw=1+10*prob)\n",
    "        pl.gca().add_patch(rectangle)\n",
    "\n",
    "        # Plot probability\n",
    "        pl.text(x1, y1*.99, f'{int(prob*100)}%', c=color, fontsize=6+50*prob)\n",
    "            \n",
    "    pl.show()\n",
    "    \n",
    "    probs = json.loads(row.probs)\n",
    "    score = max(probs)\n",
    "    if score <0.6: break"
   ]
  },
  {
   "cell_type": "markdown",
   "id": "special-current",
   "metadata": {},
   "source": [
    "# Load Manually-checked Results of Predictions"
   ]
  },
  {
   "cell_type": "code",
   "execution_count": null,
   "id": "honest-sociology",
   "metadata": {},
   "outputs": [],
   "source": [
    "confirmed_df = pd.read_csv('data/pred_cameras_wboag.tsv', sep='\\t')\n",
    "confirmed_df['max_prob'] = confirmed_df['probs'].apply(lambda t: float(t[1:-1].split(',')[0]))\n",
    "confirmed_df['confirm dome'] = confirmed_df['confirm dome'].fillna(0)\n",
    "confirmed_df['confirm button'] = confirmed_df['confirm button'].fillna(0)\n",
    "confirmed_df['confirm box'] = confirmed_df['confirm box'].fillna(0)\n",
    "#confirmed_df = confirmed_df[(confirmed_df['confirm dome'] + confirmed_df['confirm button'] + confirmed_df['confirm box'])>0]\n",
    "confirmed_df"
   ]
  },
  {
   "cell_type": "code",
   "execution_count": null,
   "id": "veterinary-prevention",
   "metadata": {},
   "outputs": [],
   "source": [
    "ranges = [[0.9,1.01], [0.8,0.9], [0.7,0.8], [0.7,1.0]]\n",
    "for low,high in ranges:\n",
    "    rows = confirmed_df[(confirmed_df.max_prob>=low)&(confirmed_df.max_prob<high)]\n",
    "    crows = rows[(rows['confirm dome'] + rows['confirm button'] + rows['confirm box'])>0]\n",
    "\n",
    "    frac = len(crows) / len(rows)\n",
    "    print(f'[{low},{high}) n={len(rows)}, {frac*100:.1f}% of images had cameras')\n",
    "    for col in ['confirm dome', 'confirm button', 'confirm box']:\n",
    "        print(f'\\t{col:14s}: {int(rows[col].sum()):3d}')\n",
    "    print()"
   ]
  },
  {
   "cell_type": "code",
   "execution_count": null,
   "id": "atomic-calgary",
   "metadata": {},
   "outputs": [],
   "source": []
  }
 ],
 "metadata": {
  "kernelspec": {
   "display_name": "Python 3",
   "language": "python",
   "name": "python3"
  },
  "language_info": {
   "codemirror_mode": {
    "name": "ipython",
    "version": 3
   },
   "file_extension": ".py",
   "mimetype": "text/x-python",
   "name": "python",
   "nbconvert_exporter": "python",
   "pygments_lexer": "ipython3",
   "version": "3.9.1"
  }
 },
 "nbformat": 4,
 "nbformat_minor": 5
}
