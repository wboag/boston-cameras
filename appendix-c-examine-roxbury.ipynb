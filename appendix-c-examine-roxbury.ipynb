{
 "cells": [
  {
   "cell_type": "code",
   "execution_count": null,
   "id": "legendary-suspect",
   "metadata": {},
   "outputs": [],
   "source": [
    "import folium\n",
    "import osmnx as ox\n",
    "import pandas as pd\n",
    "import os\n",
    "import pickle\n",
    "from collections import defaultdict\n",
    "import cv2\n",
    "import pylab as pl\n",
    "\n",
    "import gspread\n",
    "from oauth2client.service_account import ServiceAccountCredentials\n",
    "import google_streetview.api\n",
    "\n",
    "from detectron2.data.datasets import load_coco_json, register_coco_instances\n",
    "from detectron2.data import MetadataCatalog\n",
    "from detectron2 import model_zoo\n",
    "from detectron2.config import get_cfg\n",
    "from detectron2.engine import DefaultPredictor"
   ]
  },
  {
   "cell_type": "markdown",
   "id": "mexican-dialogue",
   "metadata": {},
   "source": [
    "# Network of Roxbury"
   ]
  },
  {
   "cell_type": "code",
   "execution_count": null,
   "id": "tired-advance",
   "metadata": {},
   "outputs": [],
   "source": [
    "roxbury = ox.graph_from_place('Roxbury, Boston, MA', network_type='drive')\n",
    "\n",
    "# clean up the intersections and extract their xy coords\n",
    "roxbury = ox.project_graph(roxbury)\n",
    "r_intersections = ox.consolidate_intersections(roxbury, tolerance=15, dead_ends=False)\n",
    "r_intersection_nodes, r_intersection_edges = ox.graph_to_gdfs(r_intersections)\n",
    "#r_intersection_nodes = r_intersection_nodes[~r_intersection_nodes.lon.isnull()]\n",
    "\n",
    "fig, ax = ox.plot_graph(r_intersections)"
   ]
  },
  {
   "cell_type": "code",
   "execution_count": null,
   "id": "disciplinary-barbados",
   "metadata": {},
   "outputs": [],
   "source": [
    "r_nodes, r_edges = ox.graph_to_gdfs(roxbury)\n",
    "\n",
    "street_counts = []\n",
    "gps = []\n",
    "for row in r_nodes.itertuples():\n",
    "    coords = (row.lat, row.lon)\n",
    "    gps.append(coords)\n",
    "    street_counts.append(row.street_count)\n",
    "    \n",
    "print(len(gps))\n",
    "print(gps[0])"
   ]
  },
  {
   "cell_type": "code",
   "execution_count": null,
   "id": "prepared-legislature",
   "metadata": {},
   "outputs": [],
   "source": [
    "xs, ys = zip(*gps)\n",
    "n = len(xs)\n",
    "median_x = sorted(xs)[int(n/2)]\n",
    "median_y = sorted(ys)[int(n/2)]\n",
    "\n",
    "print(median_x)\n",
    "print(median_y)\n",
    "\n",
    "print()\n",
    "print(min(xs), max(xs))\n",
    "print(min(ys), max(ys))"
   ]
  },
  {
   "cell_type": "code",
   "execution_count": null,
   "id": "outdoor-question",
   "metadata": {},
   "outputs": [],
   "source": [
    "# Create a map\n",
    "r_folium = folium.Map(location=[42.31827, -71.081789], tiles='openstreetmap', zoom_start=14)\n",
    "\n",
    "#add marker for each camera\n",
    "num = 0\n",
    "for i,coord in enumerate(gps):\n",
    "    tooltip = ''\n",
    "    popup = f'{coord}'\n",
    "    icon = folium.map.Icon(color='green')\n",
    "    folium.Marker(coord, popup=popup, tooltip=str(i), icon=icon).add_to(r_folium)\n",
    "    num += 1\n",
    "    \n",
    "    #if i>=20: break\n",
    "    \n",
    "# display folium\n",
    "print(num)\n",
    "r_folium"
   ]
  },
  {
   "cell_type": "markdown",
   "id": "received-building",
   "metadata": {},
   "source": [
    "# Manually-identified Cameras"
   ]
  },
  {
   "cell_type": "code",
   "execution_count": null,
   "id": "indoor-mandate",
   "metadata": {},
   "outputs": [],
   "source": [
    "cameras = pd.read_csv('data/manual_cameras.csv')\n",
    "cameras"
   ]
  },
  {
   "cell_type": "markdown",
   "id": "herbal-status",
   "metadata": {},
   "source": [
    "# Which images correspond to which GPS?"
   ]
  },
  {
   "cell_type": "code",
   "execution_count": null,
   "id": "ordinary-terminal",
   "metadata": {},
   "outputs": [],
   "source": [
    "with open('gsv/metadata.pkl', 'rb') as f:\n",
    "    metadata = pickle.load(f)\n",
    "    \n",
    "metadata"
   ]
  },
  {
   "cell_type": "code",
   "execution_count": null,
   "id": "enabling-mustang",
   "metadata": {},
   "outputs": [],
   "source": [
    "gps_to_images = defaultdict(list)\n",
    "for image_id,m in metadata.items():\n",
    "    # Only looking at the images from the large run, which (for me) have image_id > 1200\n",
    "    if image_id <= 1200: continue\n",
    "    \n",
    "    gps = tuple(map(float,m['location'].split(',')))\n",
    "    gps_to_images[gps].append(image_id)\n",
    "\n",
    "gps_to_images = dict(gps_to_images)"
   ]
  },
  {
   "cell_type": "markdown",
   "id": "excessive-darwin",
   "metadata": {},
   "source": [
    "# Visualize Roxbury"
   ]
  },
  {
   "cell_type": "code",
   "execution_count": null,
   "id": "cloudy-regulation",
   "metadata": {},
   "outputs": [],
   "source": [
    "# Create a map\n",
    "r_folium = folium.Map(location=[42.3251457,-71.0748679], tiles='openstreetmap', zoom_start=13)\n",
    "\n",
    "#add marker for each camera\n",
    "for i,row in enumerate(cameras.itertuples()):\n",
    "    tooltip = ''\n",
    "    popup = f'({row.Latitude},{row.Longitude})'\n",
    "    #print(i, popup)\n",
    "    icon = folium.map.Icon(color='red')\n",
    "    coord = (row.Latitude, row.Longitude)\n",
    "    folium.Marker(coord, popup=popup, tooltip=str(i), icon=icon).add_to(r_folium)\n",
    "\n",
    "# display folium\n",
    "r_folium"
   ]
  },
  {
   "cell_type": "markdown",
   "id": "reflected-oklahoma",
   "metadata": {},
   "source": [
    "# Load Model"
   ]
  },
  {
   "cell_type": "code",
   "execution_count": null,
   "id": "canadian-association",
   "metadata": {},
   "outputs": [],
   "source": [
    "from detectron2.data import DatasetMapper, transforms, build_detection_train_loader\n",
    "from detectron2.engine import DefaultTrainer, SimpleTrainer\n",
    "from detectron2.engine.hooks import PeriodicWriter\n",
    "\n",
    "# Custom Trainer class to include custom data augmentations\n",
    "class Trainer(DefaultTrainer):\n",
    "    @classmethod\n",
    "    def build_train_loader(cls, cfg):\n",
    "        # Set up data augmentation\n",
    "        augs = [transforms.ResizeShortestEdge(\n",
    "                    [640, 672, 704, 736, 768, 800],\n",
    "                     max_size=1333, sample_style=\"choice\"),\n",
    "                transforms.RandomBrightness(0.8, 1.2),\n",
    "                transforms.RandomSaturation(0.8, 1.2),\n",
    "                transforms.RandomFlip(prob=0.5)]\n",
    "        data_loader = build_detection_train_loader(cfg,\n",
    "            mapper=DatasetMapper(cfg, is_train=True, \n",
    "                                 augmentations=augs))\n",
    "        return data_loader"
   ]
  },
  {
   "cell_type": "code",
   "execution_count": null,
   "id": "biblical-order",
   "metadata": {},
   "outputs": [],
   "source": [
    "def build_test_dict(datadir, image_dir, ann_file):\n",
    "    # Test dataset\n",
    "    name = ann_file.split('.')[0]\n",
    "    test_dataset_name = f\"test_{name}_data\"\n",
    "    test_data_dir = os.path.join(datadir, image_dir)\n",
    "    test_json_file = os.path.join(datadir, image_dir, ann_file)\n",
    "    print(test_json_file)\n",
    "\n",
    "    register_coco_instances(test_dataset_name, {}, test_json_file, test_data_dir)\n",
    "    test_dict = load_coco_json(test_json_file, test_data_dir,\n",
    "                    dataset_name=test_dataset_name)\n",
    "    test_metadata = MetadataCatalog.get(test_dataset_name)\n",
    "    \n",
    "    return test_dict, test_metadata\n"
   ]
  },
  {
   "cell_type": "code",
   "execution_count": null,
   "id": "integrated-composer",
   "metadata": {},
   "outputs": [],
   "source": [
    "def load_model(datadir,  training_dict, training_metadata, output_dir):\n",
    "    \n",
    "    # Most importantly, let's set up a model type\n",
    "    model_type = \"retinanet\"\n",
    "    model_file = \"COCO-Detection/retinanet_R_50_FPN_3x.yaml\"\n",
    "\n",
    "    # Create a configuration and set up the model and datasets\n",
    "    cfg = get_cfg()\n",
    "    cfg.merge_from_file(model_zoo.get_config_file(model_file))\n",
    "    cfg.DATASETS.TRAIN = (training_metadata.name,)\n",
    "    #cfg.DATASETS.TEST = (test_metadata.name,)\n",
    "    cfg.OUTPUT_DIR = f\"{output_dir}/{model_type}_training_output\"\n",
    "    cfg.DATALOADER.NUM_WORKERS = 4\n",
    "    if model_type == \"maskrcnn\":\n",
    "        cfg.MODEL.ROI_HEADS.NUM_CLASSES = len(training_metadata.thing_classes)\n",
    "        cfg.MODEL.ROI_HEADS.SCORE_THRESH_TEST = 0.05\n",
    "    if model_type == \"retinanet\":\n",
    "        cfg.MODEL.RETINANET.NUM_CLASSES = len(training_metadata.thing_classes)\n",
    "        cfg.MODEL.RETINANET.SCORE_THRESH_TEST = 0.05\n",
    "    cfg.MODEL.WEIGHTS = model_zoo.get_checkpoint_url(model_file)  # Initialize weights from Model Zoo\n",
    "    cfg.MODEL.ROI_HEADS.BATCH_SIZE_PER_IMAGE = 256   # (default: 512)\n",
    "\n",
    "    # Solver options\n",
    "    cfg.SOLVER.BASE_LR = 1e-3           # Base learning rate\n",
    "    cfg.SOLVER.GAMMA = 0.5              # Learning rate decay\n",
    "    cfg.SOLVER.STEPS = (250, 500, 750)  # Iterations at which to decay learning rate\n",
    "    cfg.SOLVER.MAX_ITER = 1000          # Maximum number of iterations\n",
    "    cfg.SOLVER.WARMUP_ITERS = 100       # Warmup iterations to linearly ramp learning rate from zero\n",
    "    cfg.SOLVER.IMS_PER_BATCH = 1        # Lower to reduce memory usage (1 is the lowest)\n",
    "\n",
    "    # Set low threshold (for high recall)\n",
    "    cfg.MODEL.RETINANET.SCORE_THRESH_TEST = 0.05\n",
    "\n",
    "    ######################\n",
    "    # Train Model\n",
    "\n",
    "    # Create an output folder and delete any old files\n",
    "    os.makedirs(cfg.OUTPUT_DIR, exist_ok=True)\n",
    "    for fname in os.listdir(cfg.OUTPUT_DIR):\n",
    "        if \"tfevents\" in fname:\n",
    "            os.remove(os.path.join(cfg.OUTPUT_DIR, fname))\n",
    "\n",
    "    # Create a Trainer using the data augmentations defined above and train the network\n",
    "    # To avoid creating a custom trainer class, you can use \n",
    "    #  `trainer = SimpleTrainer(cfg)` : A no-frills training pipeline with nothing added  \n",
    "    #  `trainer = DefaultTrainer(cfg)` : The default training pipeline with some data augmentation and hooks\n",
    "    trainer = Trainer(cfg)\n",
    "\n",
    "    # Hack to reduce the printing frequency, which defaults to every 20 iterations..\n",
    "    # There is a cleaner way to do this using `trainer.build_hooks()` but it requires much more effort.\n",
    "    for hook in trainer._hooks:\n",
    "        if isinstance(hook, PeriodicWriter):\n",
    "            hook._period = 50\n",
    "\n",
    "    # Finally, train the network\n",
    "    trainer.resume_or_load(resume=True)\n",
    "\n",
    "\n",
    "    ######################\n",
    "    # Evaluate model\n",
    "\n",
    "    # Load weights from the most recent training run\n",
    "    cfg.MODEL.WEIGHTS = os.path.join(cfg.OUTPUT_DIR, \"model_final.pth\")\n",
    "\n",
    "    # Run the official Detectron2 test evaluator, which returns useful metrics\n",
    "    #if model_type == \"maskrcnn\":\n",
    "    #    eval_tasks = (\"segm\",)\n",
    "    #elif model_type == \"retinanet\":\n",
    "    #    eval_tasks = (\"bbox\",)\n",
    "    #evaluator = COCOEvaluator(test_metadata.name,\n",
    "    #                          tasks=eval_tasks,\n",
    "    #                          distributed=False,\n",
    "    #                          output_dir=f\"output/detector2/walkthrough/{model_type}_test_output\")\n",
    "    #trainer.test(cfg, trainer.model, evaluators=evaluator)\n",
    "\n",
    "    return cfg"
   ]
  },
  {
   "cell_type": "code",
   "execution_count": null,
   "id": "broad-cisco",
   "metadata": {},
   "outputs": [],
   "source": [
    "datadir = '/crimea/wboag/2021/aclum/camera-detection/data/all_known'\n",
    "train_dict, train_metadata = build_test_dict(datadir, 'non-bh', 'non-bh.json')\n",
    "cfg = load_model(datadir, train_dict, train_metadata, 'output/detector2/nonresidential-1')"
   ]
  },
  {
   "cell_type": "code",
   "execution_count": null,
   "id": "polar-dryer",
   "metadata": {},
   "outputs": [],
   "source": [
    "predictor = DefaultPredictor(cfg)"
   ]
  },
  {
   "cell_type": "markdown",
   "id": "julian-induction",
   "metadata": {},
   "source": [
    "# Predict Cameras in Roxbury"
   ]
  },
  {
   "cell_type": "code",
   "execution_count": null,
   "id": "vietnamese-sister",
   "metadata": {},
   "outputs": [],
   "source": [
    "def euclidian(a, b):\n",
    "    c2 = (a[0]-b[0])**2 + (a[1]-b[1])**2\n",
    "    return c2 ** 0.5"
   ]
  },
  {
   "cell_type": "code",
   "execution_count": null,
   "id": "nutritional-schedule",
   "metadata": {},
   "outputs": [],
   "source": [
    "def viz_image_by_id(image_id):\n",
    "    path = f'/crimea/wboag/2021/aclum/streets/gsv/image{image_id:04d}.jpg'\n",
    "    print(path)\n",
    "    img = cv2.imread(path)\n",
    "    \n",
    "    ################\n",
    "    # Show Image\n",
    "    pl.figure(figsize=(34,18))\n",
    "    pl.imshow(img[:, :, ::-1])\n",
    "            \n",
    "        \n",
    "    ################\n",
    "    # Predicted Boxes\n",
    "    instances = predictor(img)['instances']\n",
    "    probs   = instances.scores \n",
    "    boxes   = instances.pred_boxes \n",
    "    classes = instances.pred_classes\n",
    "\n",
    "    #colors = ['r', 'deepskyblue', 'b', 'g', 'c', 'm', 'y', 'tab:orange', 'tab:pink', 'goldenrod']\n",
    "    colors = ['red', 'yellow']\n",
    "    counter = 0\n",
    "    for j,box in sorted(enumerate(boxes), key=lambda t:probs[t[0]], reverse=True):\n",
    "        # Only show the 7 highest-probability boxes\n",
    "        counter += 1\n",
    "        if counter > 7: break\n",
    "\n",
    "        #color = 'r' # colors[j]\n",
    "        #box = boxes[j]\n",
    "        pred_label = classes[j]\n",
    "        color = colors[pred_label]\n",
    "        prob = probs[j]\n",
    "\n",
    "        # Plot rectangle\n",
    "        x1,y1,x2,y2 = box.tolist()\n",
    "        rectangle = pl.Rectangle((x1,y1), x2-x1, y2-y1, ec=color, facecolor='None', lw=1+10*prob)\n",
    "        pl.gca().add_patch(rectangle)\n",
    "\n",
    "        # Plot probability\n",
    "        pl.text(x1, y1*.99, f'{int(prob*100)}%', c=color, fontsize=6+50*prob)\n",
    "        \n",
    "        \n",
    "    pl.show()"
   ]
  },
  {
   "cell_type": "code",
   "execution_count": null,
   "id": "theoretical-expense",
   "metadata": {
    "scrolled": true
   },
   "outputs": [],
   "source": [
    "# Manually Identified\n",
    "for i,row in enumerate(cameras.itertuples()):\n",
    "    coord = (row.Latitude, row.Longitude)\n",
    "\n",
    "    # Check if predicted manual (ie very very close)\n",
    "    #pred_match = False\n",
    "    #for c in pred_coords:\n",
    "    #    if euclidian(coord, c) < .0003:\n",
    "    #        pred_match = True            \n",
    "    #if pred_match:\n",
    "    #    continue\n",
    "\n",
    "    # find the closest non-camera\n",
    "    mindist = 1.0\n",
    "    for c,ids in gps_to_images.items():\n",
    "        d = euclidian(coord, c)\n",
    "        if d < mindist:\n",
    "            mindist = d\n",
    "            closest = ids\n",
    "            \n",
    "    #print(closest)\n",
    "    #continue\n",
    "\n",
    "    print(i)\n",
    "    print(row.URL)\n",
    "    for image_id in closest:\n",
    "        #if image_id <= 1400: continue\n",
    "        viz_image_by_id(image_id)\n",
    "    \n",
    "    print('='*80)\n",
    "    print('\\n')\n",
    "    \n",
    "    #break\n"
   ]
  },
  {
   "cell_type": "code",
   "execution_count": null,
   "id": "separate-interview",
   "metadata": {},
   "outputs": [],
   "source": []
  },
  {
   "cell_type": "code",
   "execution_count": null,
   "id": "talented-pride",
   "metadata": {},
   "outputs": [],
   "source": []
  },
  {
   "cell_type": "code",
   "execution_count": null,
   "id": "certain-assessment",
   "metadata": {},
   "outputs": [],
   "source": []
  }
 ],
 "metadata": {
  "kernelspec": {
   "display_name": "Python 3",
   "language": "python",
   "name": "python3"
  },
  "language_info": {
   "codemirror_mode": {
    "name": "ipython",
    "version": 3
   },
   "file_extension": ".py",
   "mimetype": "text/x-python",
   "name": "python",
   "nbconvert_exporter": "python",
   "pygments_lexer": "ipython3",
   "version": "3.9.1"
  }
 },
 "nbformat": 4,
 "nbformat_minor": 5
}
